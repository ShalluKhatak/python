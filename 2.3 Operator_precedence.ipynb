{
 "cells": [
  {
   "cell_type": "code",
   "execution_count": 7,
   "id": "b63cf678",
   "metadata": {},
   "outputs": [
    {
     "name": "stdout",
     "output_type": "stream",
     "text": [
      "x=5+8/3*7**2-1\n",
      "Value of x is 135\n",
      "5+9*5= 50\n",
      "(5+9)*5= 70\n"
     ]
    }
   ],
   "source": [
    "#Operator prescedence means the order of operations performe. Operation perform by priority.\n",
    "#Here's the order of operations:\n",
    "#1.parenthesis {[()]}\n",
    "#2.exponentiation(2**3)\n",
    "#3.multiplication(*) or division(/)\n",
    "#4.addition(+) or subtraction(-)\n",
    "\n",
    "x=5+8/3*7**2-1\n",
    "print(\"x=5+8/3*7**2-1\\nValue of x is\",round(x))\n",
    "x=5+9*5\n",
    "print(\"5+9*5=\",x)\n",
    "x=(5+9)*5\n",
    "print(\"(5+9)*5=\",x)"
   ]
  },
  {
   "cell_type": "code",
   "execution_count": 8,
   "id": "d069a7e5",
   "metadata": {},
   "outputs": [
    {
     "name": "stdout",
     "output_type": "stream",
     "text": [
      "Exercise: 4\n",
      "47\n"
     ]
    }
   ],
   "source": [
    "print(\"Exercise: 4\")\n",
    "#what is the value of x = (2+3)*10-3\n",
    "x = (2+3)*10-3      #acording to me x is 47\n",
    "print(x)    "
   ]
  },
  {
   "cell_type": "code",
   "execution_count": null,
   "id": "e3598664",
   "metadata": {},
   "outputs": [],
   "source": []
  }
 ],
 "metadata": {
  "kernelspec": {
   "display_name": "Python 3 (ipykernel)",
   "language": "python",
   "name": "python3"
  },
  "language_info": {
   "codemirror_mode": {
    "name": "ipython",
    "version": 3
   },
   "file_extension": ".py",
   "mimetype": "text/x-python",
   "name": "python",
   "nbconvert_exporter": "python",
   "pygments_lexer": "ipython3",
   "version": "3.9.13"
  }
 },
 "nbformat": 4,
 "nbformat_minor": 5
}
