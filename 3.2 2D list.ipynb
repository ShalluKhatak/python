{
 "cells": [
  {
   "cell_type": "code",
   "execution_count": 13,
   "id": "50c68e7f",
   "metadata": {},
   "outputs": [
    {
     "name": "stdout",
     "output_type": "stream",
     "text": [
      "5\n",
      "7\n",
      "\n",
      "4,7,6,\n",
      "7,8,9,\n",
      "5,6,4,"
     ]
    }
   ],
   "source": [
    "#To represent matrix we use 2D list. 2D liat is that list in which each item in the list is another list.\n",
    "matrix=[\n",
    "[1,2,3],\n",
    "[4,5,6],\n",
    "[7,8,9]\n",
    "]\n",
    "matrix.append([5,6,4]) #Add new row in matrix.\n",
    "matrix.remove([1,2,3]) #Remove an existing row from matrix.\n",
    "print(matrix[0][1])    #print 2D metrix's element buy index.\n",
    "matrix[0][1]=7         #initialization 7 on index [0][1].\n",
    "print(matrix[0][1])    #print updated value on index [0][1].\n",
    "for row in matrix:\n",
    "    print(\"\\n\",end=\"\")\n",
    "    for column in row:\n",
    "        print(column,end=\",\")"
   ]
  },
  {
   "cell_type": "code",
   "execution_count": null,
   "id": "8d8b6f78",
   "metadata": {},
   "outputs": [],
   "source": [
    "\n"
   ]
  }
 ],
 "metadata": {
  "kernelspec": {
   "display_name": "Python 3 (ipykernel)",
   "language": "python",
   "name": "python3"
  },
  "language_info": {
   "codemirror_mode": {
    "name": "ipython",
    "version": 3
   },
   "file_extension": ".py",
   "mimetype": "text/x-python",
   "name": "python",
   "nbconvert_exporter": "python",
   "pygments_lexer": "ipython3",
   "version": "3.11.1"
  }
 },
 "nbformat": 4,
 "nbformat_minor": 5
}
