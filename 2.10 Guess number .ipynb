{
 "cells": [
  {
   "cell_type": "code",
   "execution_count": 2,
   "id": "7ffc0af2",
   "metadata": {},
   "outputs": [
    {
     "name": "stdout",
     "output_type": "stream",
     "text": [
      "Guess Number....9\n",
      "Correct! the hiden number is 9.\n"
     ]
    }
   ],
   "source": [
    "#Guess the number in just 3 attempts.\n",
    "n=9\n",
    "at=3\n",
    "while at>0:\n",
    "    guess=int(input(\"Guess Number....\"))\n",
    "    at-=1\n",
    "    if guess==n:\n",
    "        print(\"Correct! the hidden number is 9.\")\n",
    "        break\n",
    "    elif at>0:   \n",
    "        print(\"Try again!\")\n",
    "    else:\n",
    "        print(\"Game Over!\")\n",
    "        break\n",
    "    \n"
   ]
  },
  {
   "cell_type": "code",
   "execution_count": null,
   "id": "e8d3458b",
   "metadata": {},
   "outputs": [],
   "source": []
  },
  {
   "cell_type": "code",
   "execution_count": null,
   "id": "99ef62d0",
   "metadata": {},
   "outputs": [],
   "source": []
  }
 ],
 "metadata": {
  "kernelspec": {
   "display_name": "Python 3 (ipykernel)",
   "language": "python",
   "name": "python3"
  },
  "language_info": {
   "codemirror_mode": {
    "name": "ipython",
    "version": 3
   },
   "file_extension": ".py",
   "mimetype": "text/x-python",
   "name": "python",
   "nbconvert_exporter": "python",
   "pygments_lexer": "ipython3",
   "version": "3.11.1"
  }
 },
 "nbformat": 4,
 "nbformat_minor": 5
}
