{
 "cells": [
  {
   "cell_type": "code",
   "execution_count": 21,
   "id": "b64c450e",
   "metadata": {},
   "outputs": [
    {
     "name": "stdout",
     "output_type": "stream",
     "text": [
      "This string use various methods/functions.\n",
      "42\n",
      "THIS STRING USE VARIOUS METHODS/FUNCTIONS.\n",
      "this string use various methods/functions.\n",
      "This String Use Various Methods/Functions.\n",
      "12\n",
      "16\n",
      "This string use different methods/functions.\n",
      "True\n"
     ]
    }
   ],
   "source": [
    "#In this we will learn how to use string function or string methods.\n",
    "#when a function belongs to  something else, or is specific to some kind of object, we refer to that function as a method.\n",
    "string=\"This string use various methods/functions.\"\n",
    "print(string)   #print string \n",
    "\n",
    "#Let's use some string function\n",
    "str_len=len(string)          \n",
    "print(str_len)          #len() function use to get lenght of string.\n",
    "print(string.upper())    #upper() is specific to string so it's prefer as method.\n",
    "print(string.lower())    #lower() method turn all character of string in lower character.\n",
    "print(string.title())    #title() capitalize first character of each word in string.\n",
    "print(string.find(\"u\"))  #find() return index number from where finding string start.\n",
    "print(string.find(\"various\"))  #we can find string as well\n",
    "print(string.replace(\"various\",\"different\")) #replace(\"old\",\"new\") it replace old value with new.\n",
    "print(\"various\" in string)  #To check the contain the character(string of characters) or not we use in operator.it will return true or false.\n",
    "#The diffrence between find() and in operator \n",
    "#find() give us the index number\n",
    "#in operator produce a boolean value."
   ]
  },
  {
   "cell_type": "code",
   "execution_count": null,
   "id": "a4169d06",
   "metadata": {},
   "outputs": [],
   "source": []
  },
  {
   "cell_type": "code",
   "execution_count": null,
   "id": "de277687",
   "metadata": {},
   "outputs": [],
   "source": []
  }
 ],
 "metadata": {
  "kernelspec": {
   "display_name": "Python 3 (ipykernel)",
   "language": "python",
   "name": "python3"
  },
  "language_info": {
   "codemirror_mode": {
    "name": "ipython",
    "version": 3
   },
   "file_extension": ".py",
   "mimetype": "text/x-python",
   "name": "python",
   "nbconvert_exporter": "python",
   "pygments_lexer": "ipython3",
   "version": "3.11.1"
  }
 },
 "nbformat": 4,
 "nbformat_minor": 5
}
