{
 "cells": [
  {
   "cell_type": "code",
   "execution_count": 6,
   "id": "5c9a29fe",
   "metadata": {},
   "outputs": [],
   "source": [
    "import xlsxwriter\n",
    "\n",
    "data=[\n",
    "    {\n",
    "        \"name\":\"Shallu\",\n",
    "        \"phone\":\"8195806242\",\n",
    "        \"email\":\"shallubaby489@gmail.com\",\n",
    "        \"status\":\"Out\"\n",
    "    },\n",
    "    {\n",
    "        \"name\":\"Palwinder\",\n",
    "        \"phone\":\"9495862492\",\n",
    "        \"email\":\"palwinder@gmail.com\",\n",
    "        \"status\":\"In\"\n",
    "    },\n",
    "    {\n",
    "        \"name\":\"Manpreet\",\n",
    "        \"phone\":\"9045624862\",\n",
    "        \"email\":\"manimani@gmail.com\",\n",
    "        \"status\":\"Out\"\n",
    "    },\n",
    "    {\n",
    "        \"name\":\"parwinder\",\n",
    "        \"phone\":\"8184125942\",\n",
    "        \"email\":\"winderpar@gmail.com\",\n",
    "        \"status\":\"In\"\n",
    "    },\n",
    "    {\n",
    "        \"name\":\"jimmy\",\n",
    "        \"phone\":\"4569826242\",\n",
    "        \"email\":\"jimmymi@gmail.com\",\n",
    "        \"status\":\"In\"\n",
    "    },\n",
    "    {\n",
    "        \"name\":\"Sunny\",\n",
    "        \"phone\":\"1236547242\",\n",
    "        \"email\":\"sunnyday@gmail.com\",\n",
    "        \"status\":\"Out\"\n",
    "    }\n",
    "]\n",
    "\n",
    "workbook = xlsxwriter.Workbook(\"PythonAssignments.xlsx\")\n",
    "worksheet =workbook.add_worksheet(\"firstsheet\")\n",
    "\n",
    "worksheet.write(0,0,\"#\")\n",
    "worksheet.write(0,1,\"Name\")\n",
    "worksheet.write(0,2,\"Phone\")\n",
    "worksheet.write(0,3,\"Email\")\n",
    "worksheet.write(0,4,\"Status\")\n",
    "\n",
    "for index,entry in enumerate(data):\n",
    "    worksheet.write(index+1,0,str(index))\n",
    "    worksheet.write(index+1,1,entry[\"name\"])\n",
    "    worksheet.write(index+1,2,entry[\"phone\"])\n",
    "    worksheet.write(index+1,3,entry[\"email\"])\n",
    "    worksheet.write(index+1,4,entry[\"status\"])\n",
    "    \n",
    "workbook.close()    \n",
    "    "
   ]
  },
  {
   "cell_type": "code",
   "execution_count": null,
   "id": "c50c847f",
   "metadata": {},
   "outputs": [],
   "source": []
  },
  {
   "cell_type": "code",
   "execution_count": null,
   "id": "f7a14069",
   "metadata": {},
   "outputs": [],
   "source": []
  },
  {
   "cell_type": "code",
   "execution_count": null,
   "id": "7170bd11",
   "metadata": {},
   "outputs": [],
   "source": []
  },
  {
   "cell_type": "code",
   "execution_count": null,
   "id": "98b024a4",
   "metadata": {},
   "outputs": [],
   "source": []
  }
 ],
 "metadata": {
  "kernelspec": {
   "display_name": "Python 3 (ipykernel)",
   "language": "python",
   "name": "python3"
  },
  "language_info": {
   "codemirror_mode": {
    "name": "ipython",
    "version": 3
   },
   "file_extension": ".py",
   "mimetype": "text/x-python",
   "name": "python",
   "nbconvert_exporter": "python",
   "pygments_lexer": "ipython3",
   "version": "3.11.1"
  }
 },
 "nbformat": 4,
 "nbformat_minor": 5
}
