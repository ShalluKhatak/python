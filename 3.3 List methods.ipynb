{
 "cells": [
  {
   "cell_type": "code",
   "execution_count": 15,
   "id": "c2c9e641",
   "metadata": {},
   "outputs": [
    {
     "name": "stdout",
     "output_type": "stream",
     "text": [
      "[5, 6, 4, 54, 8, 58, 54, 8, 32]\n",
      "[5, 6, 4, 54, 8, 58, 54, 8, 32]\n",
      "[4, 5, 6, 8, 8, 32, 54, 54, 58, 79]\n",
      "2\n",
      "[4, 5, 6, 8, 32, 54, 54, 58, 79]\n",
      "[1, 4, 5, 6, 8, 32, 54, 54, 58, 79]\n",
      "[1, 4, 5, 6, 8, 32, 54, 54, 58]\n",
      "8\n",
      "False\n"
     ]
    }
   ],
   "source": [
    "#List operations are perform on a list.\n",
    "number1=[5,6,4,54,8,58,54,8,32]\n",
    "print(number1)                   \n",
    "number=number1.copy()         #copy 1 list to another list\n",
    "print(number)                  \n",
    "number.sort()                #sort list\n",
    "number.append(79)            #Add 79 at the end of list\n",
    "print(number) \n",
    "print(number.count(8))       #Count use to get number of occurence\n",
    "number.remove(8)             #remove number\n",
    "print(number)                \n",
    "number.insert(0,1)           #insert value at given index \n",
    "print(number)\n",
    "number.pop()                 #delete last item\n",
    "print(number)\n",
    "print(number.index(58))     #find the index number of given item\n",
    "print( 35 in number)        #This in operator is used to check the given item is in list or not. it return true or false.\n"
   ]
  },
  {
   "cell_type": "code",
   "execution_count": 6,
   "id": "8b6420eb",
   "metadata": {},
   "outputs": [
    {
     "name": "stdout",
     "output_type": "stream",
     "text": [
      "Exrecise:8 \n",
      "We have list: [7, 8, 5, 8, 1, 1, 1, 5, 7, 7, 7, 8]\n",
      "Press 1.For Remove all duplicate numbers at once. \n",
      "press 2.For remove specific number duplicate.\n",
      "Press Here: 1\n",
      "[1, 5, 7, 8]\n"
     ]
    }
   ],
   "source": [
    "print(\"Exrecise:8 \")\n",
    "#WAP to remove the duplicates in a list.\n",
    "num=[7,8,5,8,1,1,1,5,7,7,7,8]\n",
    "print(f\"We have list: {num}\")\n",
    "choice=int(input(\"\"\"Press 1.For Remove all duplicate numbers at once. \n",
    "press 2.For remove specific number duplicate.\n",
    "Press Here: \"\"\"))\n",
    "if choice==1:\n",
    "    for n in num:\n",
    "        c=num.count(n)\n",
    "        while c>1:\n",
    "                num.remove(n)\n",
    "                c-=1\n",
    "    print(num)\n",
    "elif choice==2:\n",
    "    d=int(input(\"Enter number: \"))\n",
    "    c=num.count(d)\n",
    "    for i in num:\n",
    "        if c>1:\n",
    "            num.remove(d)\n",
    "            c-=1\n",
    "    print(num)    \n",
    "else:\n",
    "    print(\"Invalid Input!\")\n"
   ]
  },
  {
   "cell_type": "code",
   "execution_count": 5,
   "id": "1614773c",
   "metadata": {},
   "outputs": [
    {
     "name": "stdout",
     "output_type": "stream",
     "text": [
      "[7, 8, 5, 1]\n"
     ]
    }
   ],
   "source": [
    "#Code by mosh\n",
    "num=[7,8,5,8,1,1,1,5,7,7,7,8]\n",
    "uni=[]\n",
    "for n in num:\n",
    "    if n not in uni:\n",
    "        uni.append(n)\n",
    "print(uni)"
   ]
  },
  {
   "cell_type": "code",
   "execution_count": null,
   "id": "8b555cf1",
   "metadata": {},
   "outputs": [],
   "source": []
  },
  {
   "cell_type": "code",
   "execution_count": null,
   "id": "77a1b193",
   "metadata": {},
   "outputs": [],
   "source": []
  },
  {
   "cell_type": "code",
   "execution_count": null,
   "id": "1f45c049",
   "metadata": {},
   "outputs": [],
   "source": []
  }
 ],
 "metadata": {
  "kernelspec": {
   "display_name": "Python 3 (ipykernel)",
   "language": "python",
   "name": "python3"
  },
  "language_info": {
   "codemirror_mode": {
    "name": "ipython",
    "version": 3
   },
   "file_extension": ".py",
   "mimetype": "text/x-python",
   "name": "python",
   "nbconvert_exporter": "python",
   "pygments_lexer": "ipython3",
   "version": "3.11.1"
  }
 },
 "nbformat": 4,
 "nbformat_minor": 5
}
