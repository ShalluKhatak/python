{
 "cells": [
  {
   "cell_type": "code",
   "execution_count": 10,
   "id": "d66669b2",
   "metadata": {},
   "outputs": [
    {
     "name": "stdout",
     "output_type": "stream",
     "text": [
      ">start\n",
      "Car started......Ready to go!\n",
      ">start\n",
      "Car is already started.......\n",
      ">stop\n",
      "Car stopped.\n",
      ">stop\n",
      "Car is already stopped.........\n",
      ">quit\n",
      "Thank you!\n",
      "Exit\n"
     ]
    }
   ],
   "source": [
    "#Car game\n",
    "started=False\n",
    "while True:\n",
    "    cmd=input(\">\").lower()\n",
    "    if cmd=='help':\n",
    "        print(\"start-to start the car\\nstop-to stop the car\\nquit-to exit\")\n",
    "        continue\n",
    "        cmd=input(\">\")\n",
    "    elif cmd=='start':\n",
    "        if started:\n",
    "            print(\"Car is already started.......\")\n",
    "        else:\n",
    "            started=True\n",
    "            print(\"Car started......Ready to go!\")\n",
    "        continue\n",
    "    elif cmd=='stop':\n",
    "        if not started:\n",
    "            print(\"Car is already stopped.........\")\n",
    "        else:\n",
    "            started=False\n",
    "            print(\"Car stopped.\")\n",
    "        continue\n",
    "    elif cmd=='quit':\n",
    "        print(\"Thank you!\\nExit\")\n",
    "        break\n",
    "    else:\n",
    "        print(\"I don't understand that......\")\n",
    "        continue\n",
    "    "
   ]
  },
  {
   "cell_type": "code",
   "execution_count": null,
   "id": "492aadcc",
   "metadata": {},
   "outputs": [],
   "source": []
  },
  {
   "cell_type": "code",
   "execution_count": null,
   "id": "cedf3bbf",
   "metadata": {},
   "outputs": [],
   "source": []
  }
 ],
 "metadata": {
  "kernelspec": {
   "display_name": "Python 3 (ipykernel)",
   "language": "python",
   "name": "python3"
  },
  "language_info": {
   "codemirror_mode": {
    "name": "ipython",
    "version": 3
   },
   "file_extension": ".py",
   "mimetype": "text/x-python",
   "name": "python",
   "nbconvert_exporter": "python",
   "pygments_lexer": "ipython3",
   "version": "3.11.1"
  }
 },
 "nbformat": 4,
 "nbformat_minor": 5
}
