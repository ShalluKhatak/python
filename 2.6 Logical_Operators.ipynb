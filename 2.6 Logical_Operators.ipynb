{
 "cells": [
  {
   "cell_type": "code",
   "execution_count": 7,
   "id": "8009ab0b",
   "metadata": {},
   "outputs": [
    {
     "name": "stdout",
     "output_type": "stream",
     "text": [
      "Eligible for loan.\n"
     ]
    }
   ],
   "source": [
    "#Where we have multiple conditions there we use logical operators.In AND operator both condition should be true.\n",
    "#if an applicant has high income AND good credit then applicant elligible for loan.\n",
    "high_income=True\n",
    "good_credit=True\n",
    "if high_income&good_credit:           #we can also write it as (high_income and good_credit)\n",
    "    print(\"Eligible for loan.\")\n",
    "else:\n",
    "    print(\"Not eligible for loan.\")"
   ]
  },
  {
   "cell_type": "code",
   "execution_count": 12,
   "id": "fcdaccaf",
   "metadata": {},
   "outputs": [
    {
     "name": "stdout",
     "output_type": "stream",
     "text": [
      "Eligible for loan.\n"
     ]
    }
   ],
   "source": [
    "#In OR condition at least one condition should be true.\n",
    "#We have 3 logical operator\n",
    "#1.Logical AND\n",
    "#2.Logical OR\n",
    "#3.Logical NOT\n",
    "#if an applicant has high income OR good credit then applicant elligible for loan.\n",
    "high_income=True\n",
    "good_credit=False\n",
    "if high_income|good_credit:           #we can also write it as (high_income or good_credit)\n",
    "    print(\"Eligible for loan.\")\n",
    "else:\n",
    "    print(\"Not eligible for loan.\")"
   ]
  },
  {
   "cell_type": "code",
   "execution_count": 19,
   "id": "867f4128",
   "metadata": {},
   "outputs": [
    {
     "name": "stdout",
     "output_type": "stream",
     "text": [
      "Eligible for loan.\n"
     ]
    }
   ],
   "source": [
    "#NOT operator reverse any boolean value given to it.\n",
    "#if an applicant has good credit AND doesn't have a criminal record then elligible for loan.\n",
    "good_credit=True\n",
    "criminal_record=False\n",
    "\n",
    "if good_credit and not criminal_record:   #Here criminal_record convert into True by not operator.\n",
    "    print(\"Eligible for loan.\")\n",
    "else:\n",
    "     print(\"Not eligible for loan.\")"
   ]
  },
  {
   "cell_type": "code",
   "execution_count": null,
   "id": "27e770b2",
   "metadata": {},
   "outputs": [],
   "source": []
  }
 ],
 "metadata": {
  "kernelspec": {
   "display_name": "Python 3 (ipykernel)",
   "language": "python",
   "name": "python3"
  },
  "language_info": {
   "codemirror_mode": {
    "name": "ipython",
    "version": 3
   },
   "file_extension": ".py",
   "mimetype": "text/x-python",
   "name": "python",
   "nbconvert_exporter": "python",
   "pygments_lexer": "ipython3",
   "version": "3.9.13"
  }
 },
 "nbformat": 4,
 "nbformat_minor": 5
}
