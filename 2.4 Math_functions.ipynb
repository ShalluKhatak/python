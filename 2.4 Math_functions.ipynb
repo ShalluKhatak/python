{
 "cells": [
  {
   "cell_type": "code",
   "execution_count": 4,
   "id": "e6b1f8a6",
   "metadata": {},
   "outputs": [
    {
     "name": "stdout",
     "output_type": "stream",
     "text": [
      "3\n",
      "2\n",
      "-4\n",
      "3.5\n"
     ]
    }
   ],
   "source": [
    "#In this we look at few useful functions for working with numbers.\n",
    "#python we've bulit in functions for performing mathematical operations.\n",
    "#For complex mathmatical calculations, we need to import math module.\n",
    "#A module in python is a separate file with some reusable code.we use these modules to organize our code into different files. \n",
    "import math       #it's methods using the dot(.) operator \n",
    "\n",
    "print(math.ceil(2.9))\n",
    "print(math.floor(2.9))\n",
    "\n",
    "x=-3.5\n",
    "print(round(x))  #round() give round integer value it can be negative or positive.\n",
    "print(abs(x))    #abs() always give absolute positive value \n",
    "\n",
    "\n",
    "\n",
    "#for reffrence search on google: python 3 math module "
   ]
  },
  {
   "cell_type": "code",
   "execution_count": null,
   "id": "d682fa04",
   "metadata": {},
   "outputs": [],
   "source": []
  }
 ],
 "metadata": {
  "kernelspec": {
   "display_name": "Python 3 (ipykernel)",
   "language": "python",
   "name": "python3"
  },
  "language_info": {
   "codemirror_mode": {
    "name": "ipython",
    "version": 3
   },
   "file_extension": ".py",
   "mimetype": "text/x-python",
   "name": "python",
   "nbconvert_exporter": "python",
   "pygments_lexer": "ipython3",
   "version": "3.9.13"
  }
 },
 "nbformat": 4,
 "nbformat_minor": 5
}
