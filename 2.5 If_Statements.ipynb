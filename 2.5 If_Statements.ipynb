{
 "cells": [
  {
   "cell_type": "code",
   "execution_count": 4,
   "id": "cb8f2da9",
   "metadata": {},
   "outputs": [
    {
     "name": "stdout",
     "output_type": "stream",
     "text": [
      "it's a lovely day.\n"
     ]
    }
   ],
   "source": [
    "#if statement allow us to build proogram that can make decision based on some condition.\n",
    "#if the condition is true it execute certain statements,otherwise it execute other statement.\n",
    "is_hot= False\n",
    "is_cold= False\n",
    "\n",
    "if is_hot:\n",
    "    print(\"it's a hot day.\")\n",
    "elif is_cold:\n",
    "    print(\"it's a cold day.\")\n",
    "else:\n",
    "    print(\"it's a lovely day.\")"
   ]
  },
  {
   "cell_type": "code",
   "execution_count": 7,
   "id": "5c9af30f",
   "metadata": {},
   "outputs": [
    {
     "name": "stdout",
     "output_type": "stream",
     "text": [
      "Exercise: 4\n",
      "The price of the house= 1000000\n",
      "After put down 10% of the house price.\n",
      "You will have to pay:  100000.0\n"
     ]
    }
   ],
   "source": [
    "print(\"Exercise: 4\")\n",
    "#A price of a house 1 million dollars now, if the buyer has good cradit, they will need to put down 10% of the price\n",
    "# of this property otherwise they need to put down 20% and display the down payment card for a buyer with good creadit.\n",
    "house_price=1000000\n",
    "print(\"Price of the house=\",house_price)\n",
    "good_creadit=True\n",
    "if good_creadit:\n",
    "    print(\"After put down 10% of the house price.\")\n",
    "    per=(10/100)*1000000       #We can also write it as (0.1*1000000)\n",
    "    print(\"You will have to pay: \",per)\n",
    "else:\n",
    "    print(\"After put down 20% of the house price.\")\n",
    "    per=(20/100)*1000000\n",
    "    print(\"You will have to pay: \",per)\n",
    "    "
   ]
  },
  {
   "cell_type": "code",
   "execution_count": null,
   "id": "7bfa97b7",
   "metadata": {},
   "outputs": [],
   "source": []
  }
 ],
 "metadata": {
  "kernelspec": {
   "display_name": "Python 3 (ipykernel)",
   "language": "python",
   "name": "python3"
  },
  "language_info": {
   "codemirror_mode": {
    "name": "ipython",
    "version": 3
   },
   "file_extension": ".py",
   "mimetype": "text/x-python",
   "name": "python",
   "nbconvert_exporter": "python",
   "pygments_lexer": "ipython3",
   "version": "3.9.13"
  }
 },
 "nbformat": 4,
 "nbformat_minor": 5
}
