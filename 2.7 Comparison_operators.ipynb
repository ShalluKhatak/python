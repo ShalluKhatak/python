{
 "cells": [
  {
   "cell_type": "code",
   "execution_count": 2,
   "id": "aa507570",
   "metadata": {},
   "outputs": [
    {
     "name": "stdout",
     "output_type": "stream",
     "text": [
      "Enter the temperature: 2\n",
      "It's a cold day.\n"
     ]
    }
   ],
   "source": [
    "#We use comparison operator in situation where we want to compare a variable with a value.\n",
    "#WE have 6 comparison operator :\n",
    "#1. less then(<)\n",
    "#2. greater then(>)\n",
    "#3. less then equals to(<=)\n",
    "#4. greater then equals to(>=)\n",
    "#5. equals to(==)\n",
    "#6. not equals to(!=)\n",
    "temp=int(input(\"Enter the temperature: \"))\n",
    "if temp>30:\n",
    "    print(\"It's a hot day.\")\n",
    "elif temp<10:\n",
    "    print(\"It's a cold day.\")\n",
    "else:\n",
    "    print(\"It's neither hot nor cold.\")"
   ]
  },
  {
   "cell_type": "code",
   "execution_count": null,
   "id": "f47d018b",
   "metadata": {},
   "outputs": [
    {
     "name": "stdout",
     "output_type": "stream",
     "text": [
      "Exercise:5\n"
     ]
    }
   ],
   "source": [
    "print(\"Exercise:5\")\n",
    "#get name from user as input,if the name is less than 3 character long display \"name must be at least 3 charasters\".\n",
    "#otherwise if it's more than 50 characters  long display \"name can be a maximum of characters.\"\n",
    "#otherwise display \"name looks good!\"\n",
    "name=input(\"Enter your name: \")\n",
    "length=len(name)\n",
    "if length<3:\n",
    "    print(\"Name must be at least 3 characters.\")\n",
    "elif length>50:\n",
    "    print(\"Name must be a maximum of 50 characters.\")\n",
    "else:\n",
    "    print(\"Name looks good!\")"
   ]
  },
  {
   "cell_type": "code",
   "execution_count": null,
   "id": "84ebe7f4",
   "metadata": {},
   "outputs": [],
   "source": []
  },
  {
   "cell_type": "code",
   "execution_count": null,
   "id": "2b2d2219",
   "metadata": {},
   "outputs": [],
   "source": []
  }
 ],
 "metadata": {
  "kernelspec": {
   "display_name": "Python 3 (ipykernel)",
   "language": "python",
   "name": "python3"
  },
  "language_info": {
   "codemirror_mode": {
    "name": "ipython",
    "version": 3
   },
   "file_extension": ".py",
   "mimetype": "text/x-python",
   "name": "python",
   "nbconvert_exporter": "python",
   "pygments_lexer": "ipython3",
   "version": "3.9.13"
  }
 },
 "nbformat": 4,
 "nbformat_minor": 5
}
