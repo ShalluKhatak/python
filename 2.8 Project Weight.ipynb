{
 "cells": [
  {
   "cell_type": "code",
   "execution_count": 8,
   "id": "35e4568e",
   "metadata": {},
   "outputs": [
    {
     "name": "stdout",
     "output_type": "stream",
     "text": [
      "Enter your weight: 5\n",
      "Press 1.To convert kilograms to pounds\n",
      "Press 2.To convert pounds to kilograms\n",
      "Enter here: 1\n",
      "Your weight is 11.025 pounds. \n"
     ]
    }
   ],
   "source": [
    "#Convert weight from pounds to kilograms and kilograms to pounds.\n",
    "weight=int(input(\"Enter your weight: \"))\n",
    "conv=int(input(\"Press 1.To convert kilograms to pounds\\nPress 2.To convert pounds to kilograms\\nEnter here: \"))\n",
    "if conv==1:\n",
    "    pound=weight*2.205\n",
    "    print(f\"Your weight is {pound} pounds. \")\n",
    "elif conv==2:\n",
    "    kg=weight*0.45\n",
    "    print(f\"Your weight is {kg} kilograms: \")\n",
    "else:\n",
    "    print(\"Invalid input!\")\n"
   ]
  },
  {
   "cell_type": "code",
   "execution_count": null,
   "id": "5280259b",
   "metadata": {},
   "outputs": [],
   "source": []
  },
  {
   "cell_type": "code",
   "execution_count": null,
   "id": "55814933",
   "metadata": {},
   "outputs": [],
   "source": []
  }
 ],
 "metadata": {
  "kernelspec": {
   "display_name": "Python 3 (ipykernel)",
   "language": "python",
   "name": "python3"
  },
  "language_info": {
   "codemirror_mode": {
    "name": "ipython",
    "version": 3
   },
   "file_extension": ".py",
   "mimetype": "text/x-python",
   "name": "python",
   "nbconvert_exporter": "python",
   "pygments_lexer": "ipython3",
   "version": "3.11.1"
  }
 },
 "nbformat": 4,
 "nbformat_minor": 5
}
