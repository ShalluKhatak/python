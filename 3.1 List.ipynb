{
 "cells": [
  {
   "cell_type": "code",
   "execution_count": 1,
   "id": "a96b716e",
   "metadata": {},
   "outputs": [
    {
     "name": "stdout",
     "output_type": "stream",
     "text": [
      "['Ram', 'Aham', 'Madhav', 'Banka', 'Murli dhar', 'Natnagar', 'Bihari', 'Lal']\n",
      "Banka\n",
      "['Ram', 'Aham', 'Madhav', 'Banka', 'Murli dhar', 'Natnagar', 'Bihari', 'Lal']\n",
      "['Madhav', 'Banka', 'Murli dhar', 'Natnagar', 'Bihari']\n",
      "['Ram', 'Madhav', 'Murli dhar', 'Bihari']\n",
      "['Ram', 'Banka', 'Bihari']\n",
      "['Aham', 'Banka', 'Natnagar']\n",
      "['Lal', 'Bihari', 'Natnagar', 'Murli dhar', 'Banka', 'Madhav', 'Aham', 'Ram']\n",
      "8\n",
      "Ram\n",
      "Aham\n"
     ]
    }
   ],
   "source": [
    "#A list is a collaction of items. we use [] to define a list\n",
    "#list is mutable(can be change)\n",
    "lst=['Ram','Aham','Madhav','Banka','Murli dhar','Natnagar','Bihari','Lal']   #initilization of list\n",
    "print(lst)                                                                   #print list\n",
    "print(lst[3])\n",
    "print(lst[:])       # befor : is starting index including, after : is ending index excluding. here both are default [0,maximum]\n",
    "print(lst[2:7])     #it print value from index 0 to index 6.\n",
    "print(lst[::2])     #it will skip 1 item in list\n",
    "print(lst[::3])     #it will skip 2 items in list\n",
    "print(lst[1:7:2])   #it will start from index 1 to index 6, and skip 1 item in list.\n",
    "print(lst[::-1])    #reverse the list\n",
    "print(len(lst))     #Give total length of list.\n",
    "print(max(lst))     #give item acording to item's maximum index character A=1,B=2...... \n",
    "print(min(lst))     #give item according to item's minimum index character. \n"
   ]
  },
  {
   "cell_type": "code",
   "execution_count": 29,
   "id": "530ef7ff",
   "metadata": {},
   "outputs": [
    {
     "name": "stdout",
     "output_type": "stream",
     "text": [
      "Exercise:8\n",
      "your list is : [5, 18, 654, 284, 244, 5, 7, 585, 451, 645, 484, 644, 246, 451, 42, 65, 21, 59, 3, 64, 944, 90, 40, 50]\n",
      "944\n"
     ]
    }
   ],
   "source": [
    "print(\"Exercise:8\")\n",
    "#WAP to to find the largest number in list.\n",
    "# print(\"The largest number in list is\",max(num_list))\n",
    "\n",
    "num_list=[5,18,654,284,244,5,7,585,451,645,484,644,246,451,42,65,21,59,3,64,944,90,40,50]\n",
    "print(f\"your list is : {num_list}\")\n",
    "lar=num_list[0]\n",
    "for i in num_list:\n",
    "    if lar<i:\n",
    "        lar=i\n",
    "print(lar)        "
   ]
  },
  {
   "cell_type": "code",
   "execution_count": null,
   "id": "69bab60b",
   "metadata": {},
   "outputs": [],
   "source": []
  }
 ],
 "metadata": {
  "kernelspec": {
   "display_name": "Python 3 (ipykernel)",
   "language": "python",
   "name": "python3"
  },
  "language_info": {
   "codemirror_mode": {
    "name": "ipython",
    "version": 3
   },
   "file_extension": ".py",
   "mimetype": "text/x-python",
   "name": "python",
   "nbconvert_exporter": "python",
   "pygments_lexer": "ipython3",
   "version": "3.11.1"
  }
 },
 "nbformat": 4,
 "nbformat_minor": 5
}
