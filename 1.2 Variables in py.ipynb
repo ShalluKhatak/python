{
 "cells": [
  {
   "cell_type": "code",
   "execution_count": 8,
   "id": "484eeb4e",
   "metadata": {},
   "outputs": [
    {
     "name": "stdout",
     "output_type": "stream",
     "text": [
      "var_int\n",
      "20\n",
      "10.8\n",
      "True\n",
      "Shallu\n"
     ]
    }
   ],
   "source": [
    "#Here we learn about variables\n",
    "#We used variables to temporarily stored data in computer'memory.\n",
    "var_int=10           #here variable with name var_int is store value 10. we can use this value on anywhere just by using this var_int.\n",
    "var_float=10.8        #For float value\n",
    "var_int=20           #reinitialization or rewrite the value of var_int.\n",
    "var_booln=True       #For boolean values\n",
    "var_str=\"Shallu\"     #For string value\n",
    "print(\"var_int\")     #if we put quotation here we get only var1 print on screen, cause it consider it as a string.       \n",
    "print(var_int)       #we use variables without quotation. it will return stored value.\n",
    "print(var_float) \n",
    "print(var_booln)\n",
    "print(var_str)"
   ]
  },
  {
   "cell_type": "code",
   "execution_count": 9,
   "id": "54214172",
   "metadata": {},
   "outputs": [
    {
     "name": "stdout",
     "output_type": "stream",
     "text": [
      "Exercise 1.\n",
      "Name of patient:  John Smith\n",
      "Age of patient:  20\n",
      "Is this new patient?  True\n"
     ]
    }
   ],
   "source": [
    "print(\"Exercise 1.\")\n",
    "#we check in a patient named john smith. he's 20 years old and is a new patient.\n",
    "#we need 3 variables here.\n",
    "name=\"John Smith\"\n",
    "age=20\n",
    "new_patient=True\n",
    "print(\"Name of patient: \",name)\n",
    "print(\"Age of patient: \",age)\n",
    "print(\"Is this new patient? \",new_patient)\n"
   ]
  },
  {
   "cell_type": "code",
   "execution_count": null,
   "id": "271d5db7",
   "metadata": {},
   "outputs": [],
   "source": []
  }
 ],
 "metadata": {
  "kernelspec": {
   "display_name": "Python 3 (ipykernel)",
   "language": "python",
   "name": "python3"
  },
  "language_info": {
   "codemirror_mode": {
    "name": "ipython",
    "version": 3
   },
   "file_extension": ".py",
   "mimetype": "text/x-python",
   "name": "python",
   "nbconvert_exporter": "python",
   "pygments_lexer": "ipython3",
   "version": "3.11.1"
  }
 },
 "nbformat": 4,
 "nbformat_minor": 5
}
