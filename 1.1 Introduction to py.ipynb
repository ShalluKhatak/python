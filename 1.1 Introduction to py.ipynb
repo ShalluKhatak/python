{
 "cells": [
  {
   "cell_type": "code",
   "execution_count": 29,
   "id": "ae60579b",
   "metadata": {},
   "outputs": [
    {
     "name": "stdout",
     "output_type": "stream",
     "text": [
      "About python:\n",
      "\"Python\" is one of the most popular programming languages,and every day people use it to do cool things like \"Automation\",they use it in \"AI\",as well as bulding \"Applications\"and \"Websites\" like \"Instagram\" and \"dropbox\".After installation of python,We'll use jupyter notebook to learn python.\n"
     ]
    }
   ],
   "source": [
    "print(\"About python:\\n\\\"Python\\\" is one of the most popular programming languages,and every day people use it to do cool things like \\\"Automation\\\",they use it in \\\"AI\\\",as well as bulding \\\"Applications\\\"and \\\"Websites\\\" like \\\"Instagram\\\" and \\\"dropbox\\\".After installation of python,We'll use jupyter notebook to learn python.\")\n",
    "# In jupyter we use shift+enter to run the code\n",
    "#Line start with # is comments"
   ]
  },
  {
   "cell_type": "code",
   "execution_count": 28,
   "id": "b48962f0",
   "metadata": {},
   "outputs": [
    {
     "name": "stdout",
     "output_type": "stream",
     "text": [
      "First python program.\n",
      " We'll see how we can print text,numbers,symbols in python with function \"print().\"This function is used to print any text on screen.\n",
      "Hello World, This is print by print() function.\n",
      "This is how we print \\\n"
     ]
    }
   ],
   "source": [
    "print(\"First python program.\\n We'll see how we can print text,numbers,symbols in python with function \\\"print().\\\"This function is used to print any text on screen.\")\n",
    "# This text is print on screen with the print() function.\n",
    "# some time we have to represent some special symbol on screen like \" \",\\,etc so, we use \\ (back slash) to print these symbols.\n",
    "print(\"Hello World, This is print by print() function.\")\n",
    "print(\"This is how we print \\\\\")     #here single \\ give us error but when we use double \\\\ it print on screen."
   ]
  },
  {
   "cell_type": "code",
   "execution_count": 33,
   "id": "64bba973",
   "metadata": {},
   "outputs": [
    {
     "name": "stdout",
     "output_type": "stream",
     "text": [
      "  ^ ^\n",
      " (o o)\n",
      "   V  \n"
     ]
    }
   ],
   "source": [
    "print(\"  ^ ^\")      #Imaginary Fox Hence, python execute it code line by line from the top.\n",
    "print(\" (o o)\")\n",
    "print(\"   V  \")"
   ]
  },
  {
   "cell_type": "code",
   "execution_count": 34,
   "id": "0829af75",
   "metadata": {},
   "outputs": [
    {
     "name": "stdout",
     "output_type": "stream",
     "text": [
      "**********\n"
     ]
    }
   ],
   "source": [
    "print(\"*\" *10)    #the * in quotation is our messaage outside the quotation we have another * with means multiplication\n",
    "                  #it will print message/string, n numbers of time. here * is message and 10 is the value of n."
   ]
  },
  {
   "cell_type": "code",
   "execution_count": null,
   "id": "98f08026",
   "metadata": {},
   "outputs": [],
   "source": []
  }
 ],
 "metadata": {
  "kernelspec": {
   "display_name": "Python 3 (ipykernel)",
   "language": "python",
   "name": "python3"
  },
  "language_info": {
   "codemirror_mode": {
    "name": "ipython",
    "version": 3
   },
   "file_extension": ".py",
   "mimetype": "text/x-python",
   "name": "python",
   "nbconvert_exporter": "python",
   "pygments_lexer": "ipython3",
   "version": "3.11.1"
  }
 },
 "nbformat": 4,
 "nbformat_minor": 5
}
