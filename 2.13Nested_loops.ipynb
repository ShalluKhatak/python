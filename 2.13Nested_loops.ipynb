{
 "cells": [
  {
   "cell_type": "code",
   "execution_count": 3,
   "id": "6b3124f2",
   "metadata": {},
   "outputs": [
    {
     "name": "stdout",
     "output_type": "stream",
     "text": [
      "(0,0)\n",
      "(0,1)\n",
      "(1,0)\n",
      "(1,1)\n"
     ]
    }
   ],
   "source": [
    "#Nested loop basically means adding one loop inside of another loop.\n",
    "for x in range(2):\n",
    "    for y in range(2):\n",
    "        print(f'({x},{y})')"
   ]
  },
  {
   "cell_type": "code",
   "execution_count": 5,
   "id": "369c543a",
   "metadata": {},
   "outputs": [
    {
     "name": "stdout",
     "output_type": "stream",
     "text": [
      "XXXXX\n",
      "XX\n",
      "XXXXX\n",
      "XX\n",
      "XX\n"
     ]
    }
   ],
   "source": [
    "print(\"Exercise:7\")\n",
    "#xxxxx\n",
    "#xx\n",
    "#xxxxx       #print this F on screen\n",
    "#xx\n",
    "#xx\n",
    "r=[5,2,5,2,2]\n",
    "for i in r:\n",
    "    print(\"X\"*i)"
   ]
  },
  {
   "cell_type": "code",
   "execution_count": 5,
   "id": "05c83e45",
   "metadata": {},
   "outputs": [
    {
     "name": "stdout",
     "output_type": "stream",
     "text": [
      "With nested loop.\n",
      "\n",
      "XXXXX\n",
      "XX\n",
      "XXXXX\n",
      "XX\n",
      "XX"
     ]
    }
   ],
   "source": [
    "print(\"With nested loop.\")\n",
    "r=[5,2,5,2,2]   \n",
    "for i in r:        #print F with nested loop\n",
    "    print(\"\\n\",end=\"\")          \n",
    "    for j in range(i):\n",
    "        print(\"X\",end=\"\")\n",
    "     "
   ]
  },
  {
   "cell_type": "code",
   "execution_count": null,
   "id": "29f43512",
   "metadata": {},
   "outputs": [],
   "source": []
  }
 ],
 "metadata": {
  "kernelspec": {
   "display_name": "Python 3 (ipykernel)",
   "language": "python",
   "name": "python3"
  },
  "language_info": {
   "codemirror_mode": {
    "name": "ipython",
    "version": 3
   },
   "file_extension": ".py",
   "mimetype": "text/x-python",
   "name": "python",
   "nbconvert_exporter": "python",
   "pygments_lexer": "ipython3",
   "version": "3.11.1"
  }
 },
 "nbformat": 4,
 "nbformat_minor": 5
}
