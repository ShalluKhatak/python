{
 "cells": [
  {
   "cell_type": "code",
   "execution_count": 5,
   "id": "29a653ff",
   "metadata": {},
   "outputs": [
    {
     "name": "stdout",
     "output_type": "stream",
     "text": [
      "First name: shallu\n",
      "last name: khatak\n",
      "shallu[khatak] is a coder.\n",
      "shallu [khatak] is a coder.\n"
     ]
    }
   ],
   "source": [
    "print(\"Formmatted string: \")\n",
    "#Formatted string is perticularly useful in situation, where we dynamically generate some text with our variables.\n",
    "first=input(\"First name: \")\n",
    "last=input(\"last name: \")\n",
    "#we want to print: First [last] is a coder. how will we do this?\n",
    "without_format=first+ '[' + last +'] is a coder.'         #without formating string, just concatination string\n",
    "print(without_format)\n",
    "#A formatted string is one that is prefixed with an f so,f''(f quotes) in between the quotes we add curly braces to generate\n",
    "#dynamic string. with these curly braces. we're defining place holders or holes in a string.\n",
    "#when we run our program these holes will be filled with the values of our variables. \n",
    "#here we have two place holders in below string.\n",
    "format_string=f'{first} [{last}] is a coder.'   \n",
    "print(format_string)\n"
   ]
  },
  {
   "cell_type": "code",
   "execution_count": 12,
   "id": "24103c4f",
   "metadata": {},
   "outputs": [
    {
     "name": "stdout",
     "output_type": "stream",
     "text": [
      "String methods/functions: \n",
      "In this we will learn about methods of string.\n",
      "Lenght of string is 46\n",
      "In this we will learn about methods of string.\n"
     ]
    }
   ],
   "source": [
    "print(\"String methods/functions: \")\n",
    "string=\"In this we will learn about methods of string.\"\n",
    "print(string)\n",
    "print(\"Lenght of string is\",len(string))                        #built in function len() is used to get length of whole string.\n",
    "#function operate with dot(.) operator\n",
    "string.upper()\n",
    "print(string)"
   ]
  },
  {
   "cell_type": "code",
   "execution_count": null,
   "id": "5c7064cc",
   "metadata": {},
   "outputs": [],
   "source": []
  }
 ],
 "metadata": {
  "kernelspec": {
   "display_name": "Python 3 (ipykernel)",
   "language": "python",
   "name": "python3"
  },
  "language_info": {
   "codemirror_mode": {
    "name": "ipython",
    "version": 3
   },
   "file_extension": ".py",
   "mimetype": "text/x-python",
   "name": "python",
   "nbconvert_exporter": "python",
   "pygments_lexer": "ipython3",
   "version": "3.11.1"
  }
 },
 "nbformat": 4,
 "nbformat_minor": 5
}
