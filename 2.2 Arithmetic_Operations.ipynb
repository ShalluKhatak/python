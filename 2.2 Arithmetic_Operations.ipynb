{
 "cells": [
  {
   "cell_type": "code",
   "execution_count": 10,
   "id": "65c327a7",
   "metadata": {},
   "outputs": [
    {
     "name": "stdout",
     "output_type": "stream",
     "text": [
      "Arithmetic Operation: \n",
      "Value of x=  10\n",
      "Value of y=  7\n",
      "x+y=  17\n",
      "x-y=  3\n",
      "x*y=  70\n",
      "x**y=  10000000\n",
      "x/y=  1.4285714285714286\n",
      "x//y=  1\n",
      "x%y=  3\n",
      "Augmented assignment operator: \n",
      "x+=3 now the value of x= 13\n",
      "x-=3 now the value of x= 10\n",
      "x/=3 now the value of x= 3.3333333333333335\n",
      "x*=3 now the value of x= 10.0\n"
     ]
    }
   ],
   "source": [
    "#In this we learn about the arithmetic operations supported in python.\n",
    "print(\"Arithmetic Operation: \")\n",
    "x=10\n",
    "y=7\n",
    "print(\"Value of x= \",x)\n",
    "print(\"Value of y= \",y)\n",
    "print(\"x+y= \",x+y)   #Addition\n",
    "print(\"x-y= \",x-y)   #Subtraction\n",
    "print(\"x*y= \",x*y)   #Multilpication\n",
    "print(\"x**y= \",x**y) #Power\n",
    "print(\"x/y= \",x/y)   #Division return value can be in float.\n",
    "print(\"x//y= \",x//y) #Division return value always in integer.\n",
    "print(\"x%y= \",x%y)   #Return remainder after division\n",
    "\n",
    "#augmented assignment operator is a way to write the code in shoter form.\n",
    "print(\"Augmented assignment operator: \")\n",
    "x+=3\n",
    "print(\"x+=3 now the value of x=\",x)\n",
    "x-=3 \n",
    "print(\"x-=3 now the value of x=\",x)\n",
    "x/=3\n",
    "print(\"x/=3 now the value of x=\",x)\n",
    "x*=3\n",
    "print(\"x*=3 now the value of x=\",x)\n"
   ]
  },
  {
   "cell_type": "code",
   "execution_count": null,
   "id": "caf555ec",
   "metadata": {},
   "outputs": [],
   "source": []
  }
 ],
 "metadata": {
  "kernelspec": {
   "display_name": "Python 3 (ipykernel)",
   "language": "python",
   "name": "python3"
  },
  "language_info": {
   "codemirror_mode": {
    "name": "ipython",
    "version": 3
   },
   "file_extension": ".py",
   "mimetype": "text/x-python",
   "name": "python",
   "nbconvert_exporter": "python",
   "pygments_lexer": "ipython3",
   "version": "3.9.13"
  }
 },
 "nbformat": 4,
 "nbformat_minor": 5
}
