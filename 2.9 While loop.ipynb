{
 "cells": [
  {
   "cell_type": "code",
   "execution_count": 6,
   "id": "5cab0a78",
   "metadata": {},
   "outputs": [
    {
     "name": "stdout",
     "output_type": "stream",
     "text": [
      "*\n",
      "**\n",
      "***\n",
      "****\n",
      "*****\n",
      "Exit!\n"
     ]
    }
   ],
   "source": [
    "#We use while loop to execute a block of code multiple times.we set a exit condition in while loop if we don't mention \n",
    "#when to exit loop it become an infinity loop.\n",
    "i=1\n",
    "# while i<=5:\n",
    "#     print(i)    #this print value of i\n",
    "#     i+=1\n",
    "while i<=5:\n",
    "    print(\"*\"*i)   #this print * multiple time till the number of value i.\n",
    "    i+=1\n",
    "print(\"Exit!\")"
   ]
  },
  {
   "cell_type": "code",
   "execution_count": null,
   "id": "c0c3e5ed",
   "metadata": {},
   "outputs": [],
   "source": []
  },
  {
   "cell_type": "code",
   "execution_count": null,
   "id": "0c4ff47c",
   "metadata": {},
   "outputs": [],
   "source": []
  }
 ],
 "metadata": {
  "kernelspec": {
   "display_name": "Python 3 (ipykernel)",
   "language": "python",
   "name": "python3"
  },
  "language_info": {
   "codemirror_mode": {
    "name": "ipython",
    "version": 3
   },
   "file_extension": ".py",
   "mimetype": "text/x-python",
   "name": "python",
   "nbconvert_exporter": "python",
   "pygments_lexer": "ipython3",
   "version": "3.11.1"
  }
 },
 "nbformat": 4,
 "nbformat_minor": 5
}
