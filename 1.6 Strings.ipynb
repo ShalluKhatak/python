{
 "cells": [
  {
   "cell_type": "code",
   "execution_count": 12,
   "id": "32dc8b58",
   "metadata": {},
   "outputs": [
    {
     "name": "stdout",
     "output_type": "stream",
     "text": [
      "She is my friend.\n",
      "She is Ram's friend.\n",
      "His friend name is \"Ram\".\n",
      "Hy,User!\n",
      "We are here to teach you python.\n",
      "hope you'll like this tutorial.\n",
      "Thank you....\n"
     ]
    }
   ],
   "source": [
    "#We can use single or double quotes to define a string but there are times you have to use a specific form,otherwise \n",
    "#we're going to run into issues. \n",
    "my_friend='She is my friend.'\n",
    "print(my_friend)\n",
    "# ram_friend='She is ram's friend'.\n",
    "#get error here cause we get some problem. we can't represent ('s) with single quotes, so we have to use double quotes here.\n",
    "ram_friend=\"She is Ram's friend.\"             #here we use double quotes to represent single quote\n",
    "print(ram_friend)\n",
    "name_friend=('His friend name is \"Ram\".')     #use single quotes to represent double quotes\n",
    "print(name_friend)\n",
    "multi_line_str=\"\"\"Hy,User!\n",
    "We are here to teach you python.\n",
    "hope you'll like this tutorial.\n",
    "Thank you....\"\"\"      #we can also use single triple quptes for multiline string.\n",
    "print(multi_line_str)"
   ]
  },
  {
   "cell_type": "code",
   "execution_count": 19,
   "id": "4e3e0e06",
   "metadata": {},
   "outputs": [
    {
     "name": "stdout",
     "output_type": "stream",
     "text": [
      "Indexing string: \n",
      "This is about,how we indexing string\n",
      "36\n",
      "g\n",
      "T\n",
      "i\n"
     ]
    }
   ],
   "source": [
    "print(\"Indexing string: \")\n",
    "str_index=\"This is about,how we indexing string\"\n",
    "#string index start from 0 and end of string depend on charecter present in the string. lenght of string is the end of string indexing.\n",
    "print(str_index)\n",
    "print(len(str_index))      #len() function is used to get the lenght of string, (lenght-1) of string is maximum index number.\n",
    "print(str_index[35])       #retrieve character by index number.\n",
    "print(str_index[0])\n",
    "print(str_index[-3])        #retrieve character from -ve index"
   ]
  },
  {
   "cell_type": "code",
   "execution_count": 32,
   "id": "02516efa",
   "metadata": {},
   "outputs": [
    {
     "name": "stdout",
     "output_type": "stream",
     "text": [
      "Slicing of string: \n",
      "Now we are learn, how to slice string.\n",
      "Now we are learn, how to slice string.\n",
      "e learn, ho\n",
      "Nww r er,hwt lc tig\n",
      "N  eenh  i rg\n",
      ".gnirts ecils ot woh ,nrael era ew woN\n",
      ".nrseiso o naleae o\n"
     ]
    }
   ],
   "source": [
    "print(\"Slicing of string: \")\n",
    "str_slic=\"Now we are learn, how to slice string.\"\n",
    "print(str_slic)\n",
    "print(str_slic[:])         #this print whole string \n",
    "print(str_slic[9:20])       #this print character index 9 to index 20 from the string.\n",
    "print(str_slic[::2])        #this skip 1 character from string\n",
    "print(str_slic[::3])        #this skip 2 character from string\n",
    "print(str_slic[: :-1])      #after second colon -1 is use to reverse string.\n",
    "print(str_slic[::-2])       #this reverse the string after that skip 1 character.\n",
    "\n"
   ]
  },
  {
   "cell_type": "code",
   "execution_count": null,
   "id": "163441d2",
   "metadata": {},
   "outputs": [],
   "source": []
  }
 ],
 "metadata": {
  "kernelspec": {
   "display_name": "Python 3 (ipykernel)",
   "language": "python",
   "name": "python3"
  },
  "language_info": {
   "codemirror_mode": {
    "name": "ipython",
    "version": 3
   },
   "file_extension": ".py",
   "mimetype": "text/x-python",
   "name": "python",
   "nbconvert_exporter": "python",
   "pygments_lexer": "ipython3",
   "version": "3.11.1"
  }
 },
 "nbformat": 4,
 "nbformat_minor": 5
}
