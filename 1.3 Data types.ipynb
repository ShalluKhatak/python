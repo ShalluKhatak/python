{
 "cells": [
  {
   "cell_type": "code",
   "execution_count": null,
   "id": "c5ffa6a9",
   "metadata": {},
   "outputs": [],
   "source": [
    "# Variables can store data of different types, and different types can do different things.\n",
    "# Python has the following data types built-in by default, in these categories:\n",
    "# Text Type:\tstr\n",
    "# Numeric Types:\tint, float, complex\n",
    "# Sequence Types:\tlist, tuple, range\n",
    "# Mapping Type:\tdict\n",
    "# Set Types:\tset, frozenset\n",
    "# Boolean Type:\tbool\n",
    "# Binary Types:\tbytes, bytearray, memoryview\n",
    "# None Type:\tNoneType\n"
   ]
  }
 ],
 "metadata": {
  "kernelspec": {
   "display_name": "Python 3 (ipykernel)",
   "language": "python",
   "name": "python3"
  },
  "language_info": {
   "codemirror_mode": {
    "name": "ipython",
    "version": 3
   },
   "file_extension": ".py",
   "mimetype": "text/x-python",
   "name": "python",
   "nbconvert_exporter": "python",
   "pygments_lexer": "ipython3",
   "version": "3.11.1"
  }
 },
 "nbformat": 4,
 "nbformat_minor": 5
}
