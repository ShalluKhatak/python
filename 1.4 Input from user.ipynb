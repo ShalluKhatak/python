{
 "cells": [
  {
   "cell_type": "code",
   "execution_count": 5,
   "id": "21f031dc",
   "metadata": {},
   "outputs": [
    {
     "name": "stdout",
     "output_type": "stream",
     "text": [
      "Input: in1\n",
      "Input stored in variable: in2\n",
      "We can retrive input:  in2\n",
      "You Entered in2\n"
     ]
    }
   ],
   "source": [
    "#Here we learn how to get input from user.\n",
    "#we use input() function to get input from user.\n",
    "input(\"Input: \")                                  #just getting input from user. by delault input() function get input in string format.\n",
    "input_var=input(\"Input stored in variable: \")     #store input from user in variable. \n",
    "print(\"We can retrive input: \",input_var)         #print input with the help of variable after getting it from user. \n",
    "print(\"You Entered \"+input_var)                   #we can use + symbol to concatenat/combining the string"
   ]
  },
  {
   "cell_type": "code",
   "execution_count": 8,
   "id": "20f76bd2",
   "metadata": {},
   "outputs": [
    {
     "name": "stdout",
     "output_type": "stream",
     "text": [
      "Exercise 2.\n",
      "What is your name? shallu\n",
      "What is your favourite colour? blue\n",
      "shallu likes blue\n"
     ]
    }
   ],
   "source": [
    "print(\"Exercise 2.\")\n",
    "#Ask two questions to user. user's name and favourite color. then print a message like \"name likes color.\"\n",
    "name=input(\"What is your name? \")\n",
    "color=input(\"What is your favourite colour? \")\n",
    "print(name+\" likes \"+color)"
   ]
  },
  {
   "cell_type": "code",
   "execution_count": null,
   "id": "3299f59f",
   "metadata": {},
   "outputs": [],
   "source": []
  },
  {
   "cell_type": "code",
   "execution_count": null,
   "id": "b99c605b",
   "metadata": {},
   "outputs": [],
   "source": []
  }
 ],
 "metadata": {
  "kernelspec": {
   "display_name": "Python 3 (ipykernel)",
   "language": "python",
   "name": "python3"
  },
  "language_info": {
   "codemirror_mode": {
    "name": "ipython",
    "version": 3
   },
   "file_extension": ".py",
   "mimetype": "text/x-python",
   "name": "python",
   "nbconvert_exporter": "python",
   "pygments_lexer": "ipython3",
   "version": "3.11.1"
  }
 },
 "nbformat": 4,
 "nbformat_minor": 5
}
