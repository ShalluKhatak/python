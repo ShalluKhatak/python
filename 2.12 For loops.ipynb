{
 "cells": [
  {
   "cell_type": "code",
   "execution_count": 8,
   "id": "36c44c5d",
   "metadata": {},
   "outputs": [
    {
     "name": "stdout",
     "output_type": "stream",
     "text": [
      "For loop iterate every character of string.\n",
      "P\n",
      "y\n",
      "t\n",
      "h\n",
      "o\n",
      "n\n",
      "For loop print every element of string.\n",
      "Shallu\n",
      "Kumari\n",
      "Khatak\n",
      "For loop with list.\n",
      "1\n",
      "2\n",
      "3\n",
      "4\n",
      "5\n",
      "For loop with maximum Range.\n",
      "0\n",
      "1\n",
      "2\n",
      "3\n",
      "4\n",
      "5\n",
      "6\n",
      "7\n",
      "8\n",
      "9\n",
      "For loop within Range.\n",
      "5\n",
      "6\n",
      "7\n",
      "8\n",
      "9\n",
      "For loop skip 2 number within range.\n",
      "5\n",
      "7\n",
      "9\n"
     ]
    }
   ],
   "source": [
    "#For loop is use to iterate over items of a collection,such as a string.\n",
    "print(\"For loop iterate every character of string.\")\n",
    "for i in \"Python\":            #this iterate every character one by one in new line.\n",
    "    print(i)\n",
    "print(\"For loop print every element of string.\")\n",
    "for j in ['Shallu','Kumari','Khatak']:\n",
    "    print(j)\n",
    "print(\"For loop with list.\")\n",
    "for k in [1,2,3,4,5]:\n",
    "    print(k)\n",
    "print(\"For loop with maximum Range.\")\n",
    "for l in range(10):\n",
    "    print(l)\n",
    "print(\"For loop within Range.\")\n",
    "for m in range(5,10):\n",
    "    print(m)\n",
    "print(\"For loop skip 2 number within range.\")\n",
    "for n in range(5,10,2):\n",
    "    print(n)\n"
   ]
  },
  {
   "cell_type": "code",
   "execution_count": 10,
   "id": "f430dbe1",
   "metadata": {},
   "outputs": [
    {
     "name": "stdout",
     "output_type": "stream",
     "text": [
      "Exercise:6\n",
      "Total: 100\n"
     ]
    }
   ],
   "source": [
    "print(\"Exercise:6\")\n",
    "#WAP to calculate the total cost of all the items in a shopping cart.\n",
    "\n",
    "prices=[10,20,30,40,50]\n",
    "for i in prices:\n",
    "    i+=i\n",
    "print(f'Total: {i}')"
   ]
  },
  {
   "cell_type": "code",
   "execution_count": null,
   "id": "3ca92ac7",
   "metadata": {},
   "outputs": [],
   "source": []
  }
 ],
 "metadata": {
  "kernelspec": {
   "display_name": "Python 3 (ipykernel)",
   "language": "python",
   "name": "python3"
  },
  "language_info": {
   "codemirror_mode": {
    "name": "ipython",
    "version": 3
   },
   "file_extension": ".py",
   "mimetype": "text/x-python",
   "name": "python",
   "nbconvert_exporter": "python",
   "pygments_lexer": "ipython3",
   "version": "3.11.1"
  }
 },
 "nbformat": 4,
 "nbformat_minor": 5
}
