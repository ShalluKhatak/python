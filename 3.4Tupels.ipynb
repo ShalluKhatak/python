{
 "cells": [
  {
   "cell_type": "code",
   "execution_count": 10,
   "id": "ecbc48bc",
   "metadata": {},
   "outputs": [
    {
     "name": "stdout",
     "output_type": "stream",
     "text": [
      "2\n",
      "(1, 2, 1, 3)\n",
      "(1,)\n",
      "1\n",
      "1\n"
     ]
    }
   ],
   "source": [
    "#Tupels are similar to list,but unlike list we can't modify that.\n",
    "#Tuples are immutable(can't change)\n",
    "#we use () to define tupels.\n",
    "tup=(1,2,1,3)                \n",
    "tup1=(1,)            #Display (1,)\n",
    "tup2=(1)             #Display 1\n",
    "print(tup.count(1))  #Display number of time occur 1\n",
    "print(tup)\n",
    "print(tup1)\n",
    "print(tup2)\n",
    "print(tup[0])"
   ]
  },
  {
   "cell_type": "code",
   "execution_count": 14,
   "id": "6783c5aa",
   "metadata": {},
   "outputs": [
    {
     "name": "stdout",
     "output_type": "stream",
     "text": [
      "Tuple 1=(1, 2, 3)\n",
      "Tuple 2=(4, 5, 6)\n",
      "Without Unpaking concept sum of elements in tuple is 6.\n",
      "With the concept of unpaking the sum of elements in tuple is 15.\n"
     ]
    }
   ],
   "source": [
    "#Unpacking of list/tuple.It is a powerful feature of python.\n",
    "#we can pack tuple/list in variables like writen below:\n",
    "tup1=(1,2,3)\n",
    "print(f\"Tuple 1={tup1}\")\n",
    "tup2=(4,5,6)\n",
    "print(f\"Tuple 2={tup2}\")\n",
    "a=tup1[0]\n",
    "b=tup1[1]\n",
    "c=tup1[2]\n",
    "sum=a+b+c\n",
    "print(f'Without Unpaking concept sum of elements in tuple is {sum}.')\n",
    "x,y,z=tup2\n",
    "sum=x+y+z\n",
    "print(f'With the concept of unpaking the sum of elements in tuple is {sum}.')\n"
   ]
  },
  {
   "cell_type": "code",
   "execution_count": null,
   "id": "fa636b00",
   "metadata": {},
   "outputs": [],
   "source": []
  }
 ],
 "metadata": {
  "kernelspec": {
   "display_name": "Python 3 (ipykernel)",
   "language": "python",
   "name": "python3"
  },
  "language_info": {
   "codemirror_mode": {
    "name": "ipython",
    "version": 3
   },
   "file_extension": ".py",
   "mimetype": "text/x-python",
   "name": "python",
   "nbconvert_exporter": "python",
   "pygments_lexer": "ipython3",
   "version": "3.11.1"
  }
 },
 "nbformat": 4,
 "nbformat_minor": 5
}
