{
 "cells": [
  {
   "cell_type": "code",
   "execution_count": 3,
   "id": "388b143d",
   "metadata": {},
   "outputs": [
    {
     "name": "stdout",
     "output_type": "stream",
     "text": [
      "String type input: shallu\n",
      "Integer type input: 65\n",
      "Float type input: 589.2\n",
      "String:shallu\n",
      "Integer: 65\n",
      "Float: 589.2\n"
     ]
    }
   ],
   "source": [
    "#Input receive by user, input() function treat that input as string even we enter number/symbols.\n",
    "#To get input in other format except string, we use type conversion.\n",
    "str_inp_var=input(\"String type input: \")\n",
    "int_inp_var=int(input(\"Integer type input: \"))     #here we use int() function, it convert string into integer type.\n",
    "float_inp_var=float(input(\"Float type input: \"))   #here we use float() function it convert string into float type.\n",
    "print(\"String:\"+str_inp_var)                       #we can use + only with string.\n",
    "print(\"Integer:\",int_inp_var)\n",
    "print(\"Float:\",float_inp_var)"
   ]
  },
  {
   "cell_type": "code",
   "execution_count": 7,
   "id": "c996369d",
   "metadata": {},
   "outputs": [
    {
     "name": "stdout",
     "output_type": "stream",
     "text": [
      "Exercise 3.\n",
      "Enter your weight in pounds: 58.6\n",
      "Your weight in kilograms is  26.5458\n"
     ]
    }
   ],
   "source": [
    "print(\"Exercise 3.\")\n",
    "#Ask a user their weight(in pounds), convert it to kilograms and print on the terminal.\n",
    "weight=float(input(\"Enter your weight in pounds: \"))         #float from string.\n",
    "in_kg=weight*0.453\n",
    "print(\"Your weight in kilograms is \",in_kg)"
   ]
  },
  {
   "cell_type": "code",
   "execution_count": null,
   "id": "44f102b0",
   "metadata": {},
   "outputs": [],
   "source": []
  },
  {
   "cell_type": "code",
   "execution_count": null,
   "id": "3814f542",
   "metadata": {},
   "outputs": [],
   "source": []
  }
 ],
 "metadata": {
  "kernelspec": {
   "display_name": "Python 3 (ipykernel)",
   "language": "python",
   "name": "python3"
  },
  "language_info": {
   "codemirror_mode": {
    "name": "ipython",
    "version": 3
   },
   "file_extension": ".py",
   "mimetype": "text/x-python",
   "name": "python",
   "nbconvert_exporter": "python",
   "pygments_lexer": "ipython3",
   "version": "3.11.1"
  }
 },
 "nbformat": 4,
 "nbformat_minor": 5
}
