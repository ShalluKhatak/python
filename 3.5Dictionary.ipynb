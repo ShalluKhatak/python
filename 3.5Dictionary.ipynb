{
 "cells": [
  {
   "cell_type": "code",
   "execution_count": 21,
   "id": "059e1760",
   "metadata": {},
   "outputs": [
    {
     "name": "stdout",
     "output_type": "stream",
     "text": [
      "{'Name': 'Shallu', 'Class': 'MCA', 'Rollno.': '21071227'}\n",
      "dict_keys(['Name', 'Class', 'Rollno.'])\n",
      "dict_values(['Shallu', 'MCA', '21071227'])\n",
      "dict_items([('Name', 'Shallu'), ('Class', 'MCA'), ('Rollno.', '21071227')])\n",
      "MCA\n",
      "21071227\n",
      "None\n",
      "Shallu Khatk\n",
      "4th\n",
      "{'Name': 'Shallu Khatk', 'Class': 'MCA', 'Rollno.': '21071227', 'Sem': '4th'}\n"
     ]
    }
   ],
   "source": [
    "#When we want to store information that comes as key value pairs there we use dictionary.\n",
    "#With the dictionary we can store bunch of key values pairs. we use {} to represent dictionary.\n",
    "#Kay should be unique.\n",
    "info={\"Name\":\"Shallu\",\"Class\":\"MCA\",\"Rollno.\":\"21071227\"}\n",
    "print(info)\n",
    "print(info.keys())\n",
    "print(info.values())\n",
    "print(info.items())\n",
    "print(info[\"Class\"])\n",
    "print(info.ge(\"tRollno.\"))\n",
    "print(info.get(\"Age\"))  #It return None (Absence of a value)\n",
    "info[\"Name\"]=\"Shallu Khatk\"\n",
    "print(info.get(\"Name\"))\n",
    "info[\"Sem\"]=\"4th\"\n",
    "print(info.get(\"Sem\"))\n",
    "print(info)\n"
   ]
  },
  {
   "cell_type": "code",
   "execution_count": 7,
   "id": "6ba1c6c6",
   "metadata": {},
   "outputs": [
    {
     "name": "stdout",
     "output_type": "stream",
     "text": [
      "Exercise: 9\n",
      "Phone: 1236\n",
      "1236\n",
      "One Two Three Six "
     ]
    }
   ],
   "source": [
    "print(\"Exercise: 9\")\n",
    "#WAP to convert digit into words.\n",
    "dicti={\"1\":\"One\",\"2\":\"Two\",\"3\":\"Three\",\"4\":\"Four\",\"5\":\"Five\",\"6\":\"Six\",\"7\":\"Seven\",\"8\":\"Eight\",\"9\":\"Nine\",\"10\":\"Ten\"}\n",
    "inp=str(input(\"Phone: \"))\n",
    "print(inp)\n",
    "l=len(inp)\n",
    "i=0\n",
    "while i<l:\n",
    "    s=inp[i]\n",
    "    i+=1\n",
    "    print(dicti[f'{s}'],end=' ')\n"
   ]
  },
  {
   "cell_type": "code",
   "execution_count": 19,
   "id": "08a71ce4",
   "metadata": {},
   "outputs": [
    {
     "name": "stdout",
     "output_type": "stream",
     "text": [
      "{}\n",
      "1\n",
      "2\n",
      "3\n"
     ]
    }
   ],
   "source": [
    "my_dict={}\n",
    "print(my_dict)\n",
    "my_dict[1]=\"Ram\"\n",
    "my_dict[2]=\"Sham\"\n",
    "my_dict[3]=\"Rahul\"\n",
    "for key in my_dict:\n",
    "    print(key)\n",
    "\n",
    "    "
   ]
  },
  {
   "cell_type": "code",
   "execution_count": 9,
   "id": "339c2ec4",
   "metadata": {},
   "outputs": [],
   "source": []
  },
  {
   "cell_type": "code",
   "execution_count": null,
   "id": "b2f6c8d1",
   "metadata": {},
   "outputs": [],
   "source": []
  }
 ],
 "metadata": {
  "kernelspec": {
   "display_name": "Python 3 (ipykernel)",
   "language": "python",
   "name": "python3"
  },
  "language_info": {
   "codemirror_mode": {
    "name": "ipython",
    "version": 3
   },
   "file_extension": ".py",
   "mimetype": "text/x-python",
   "name": "python",
   "nbconvert_exporter": "python",
   "pygments_lexer": "ipython3",
   "version": "3.11.1"
  }
 },
 "nbformat": 4,
 "nbformat_minor": 5
}
